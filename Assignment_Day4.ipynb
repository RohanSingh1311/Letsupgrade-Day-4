{
  "nbformat": 4,
  "nbformat_minor": 0,
  "metadata": {
    "colab": {
      "name": "Assignment Day4.ipynb",
      "provenance": [],
      "collapsed_sections": []
    },
    "kernelspec": {
      "name": "python3",
      "display_name": "Python 3"
    }
  },
  "cells": [
    {
      "cell_type": "code",
      "metadata": {
        "id": "3sb7D7Xr59h1",
        "colab_type": "code",
        "colab": {
          "base_uri": "https://localhost:8080/",
          "height": 34
        },
        "outputId": "4de14f65-ab08-4581-c32b-927dfcad38c4"
      },
      "source": [
        "lower=1042000\n",
        "upper=702648256\n",
        "\n",
        "for num in range(lower,upper+1):\n",
        "  order=len(str(num))\n",
        "  sum=0\n",
        "  temp=num\n",
        "  while temp>0:\n",
        "    digit=temp%10\n",
        "    sum+=digit**order\n",
        "    temp//=10\n",
        "\n",
        "  if num==sum:\n",
        "    print(num)"
      ],
      "execution_count": null,
      "outputs": [
        {
          "output_type": "stream",
          "text": [
            "1741725\n"
          ],
          "name": "stdout"
        }
      ]
    },
    {
      "cell_type": "code",
      "metadata": {
        "id": "AecaPCst9ceY",
        "colab_type": "code",
        "colab": {}
      },
      "source": [
        ""
      ],
      "execution_count": null,
      "outputs": []
    }
  ]
}